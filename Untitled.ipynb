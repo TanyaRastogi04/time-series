{
 "cells": [
  {
   "cell_type": "code",
   "execution_count": 47,
   "id": "2847c7da",
   "metadata": {},
   "outputs": [],
   "source": [
    "import numpy as np\n",
    "import pandas as pd\n",
    "import matplotlib.pyplot as plt\n",
    "import seaborn as sns"
   ]
  },
  {
   "cell_type": "code",
   "execution_count": 48,
   "id": "bfcd5f47",
   "metadata": {},
   "outputs": [],
   "source": [
    "from statsmodels.tsa.seasonal import seasonal_decompose\n",
    "from statsmodels.tsa.stattools import acf,pacf\n",
    "from statsmodels.tsa.arima_model import ARIMA"
   ]
  },
  {
   "cell_type": "code",
   "execution_count": null,
   "id": "ea1c7857",
   "metadata": {},
   "outputs": [],
   "source": [
    "data = pd.read_csv(\"AirPassengers.csv\")"
   ]
  },
  {
   "cell_type": "code",
   "execution_count": null,
   "id": "c907d90b",
   "metadata": {},
   "outputs": [],
   "source": [
    "#EDA on time series data\n",
    "data.head()"
   ]
  },
  {
   "cell_type": "code",
   "execution_count": 51,
   "id": "16322544",
   "metadata": {},
   "outputs": [
    {
     "data": {
      "text/html": [
       "<div>\n",
       "<style scoped>\n",
       "    .dataframe tbody tr th:only-of-type {\n",
       "        vertical-align: middle;\n",
       "    }\n",
       "\n",
       "    .dataframe tbody tr th {\n",
       "        vertical-align: top;\n",
       "    }\n",
       "\n",
       "    .dataframe thead th {\n",
       "        text-align: right;\n",
       "    }\n",
       "</style>\n",
       "<table border=\"1\" class=\"dataframe\">\n",
       "  <thead>\n",
       "    <tr style=\"text-align: right;\">\n",
       "      <th></th>\n",
       "      <th>Month</th>\n",
       "      <th>#Passengers</th>\n",
       "    </tr>\n",
       "  </thead>\n",
       "  <tbody>\n",
       "    <tr>\n",
       "      <th>139</th>\n",
       "      <td>1960-08</td>\n",
       "      <td>606</td>\n",
       "    </tr>\n",
       "    <tr>\n",
       "      <th>140</th>\n",
       "      <td>1960-09</td>\n",
       "      <td>508</td>\n",
       "    </tr>\n",
       "    <tr>\n",
       "      <th>141</th>\n",
       "      <td>1960-10</td>\n",
       "      <td>461</td>\n",
       "    </tr>\n",
       "    <tr>\n",
       "      <th>142</th>\n",
       "      <td>1960-11</td>\n",
       "      <td>390</td>\n",
       "    </tr>\n",
       "    <tr>\n",
       "      <th>143</th>\n",
       "      <td>1960-12</td>\n",
       "      <td>432</td>\n",
       "    </tr>\n",
       "  </tbody>\n",
       "</table>\n",
       "</div>"
      ],
      "text/plain": [
       "       Month  #Passengers\n",
       "139  1960-08          606\n",
       "140  1960-09          508\n",
       "141  1960-10          461\n",
       "142  1960-11          390\n",
       "143  1960-12          432"
      ]
     },
     "execution_count": 51,
     "metadata": {},
     "output_type": "execute_result"
    }
   ],
   "source": [
    "data.tail()"
   ]
  },
  {
   "cell_type": "code",
   "execution_count": 52,
   "id": "1e5e0468",
   "metadata": {},
   "outputs": [
    {
     "data": {
      "text/plain": [
       "(144, 2)"
      ]
     },
     "execution_count": 52,
     "metadata": {},
     "output_type": "execute_result"
    }
   ],
   "source": [
    "data.shape"
   ]
  },
  {
   "cell_type": "code",
   "execution_count": 53,
   "id": "6f9b3821",
   "metadata": {},
   "outputs": [
    {
     "data": {
      "text/html": [
       "<div>\n",
       "<style scoped>\n",
       "    .dataframe tbody tr th:only-of-type {\n",
       "        vertical-align: middle;\n",
       "    }\n",
       "\n",
       "    .dataframe tbody tr th {\n",
       "        vertical-align: top;\n",
       "    }\n",
       "\n",
       "    .dataframe thead th {\n",
       "        text-align: right;\n",
       "    }\n",
       "</style>\n",
       "<table border=\"1\" class=\"dataframe\">\n",
       "  <thead>\n",
       "    <tr style=\"text-align: right;\">\n",
       "      <th></th>\n",
       "      <th>#Passengers</th>\n",
       "    </tr>\n",
       "  </thead>\n",
       "  <tbody>\n",
       "    <tr>\n",
       "      <th>count</th>\n",
       "      <td>144.000000</td>\n",
       "    </tr>\n",
       "    <tr>\n",
       "      <th>mean</th>\n",
       "      <td>280.298611</td>\n",
       "    </tr>\n",
       "    <tr>\n",
       "      <th>std</th>\n",
       "      <td>119.966317</td>\n",
       "    </tr>\n",
       "    <tr>\n",
       "      <th>min</th>\n",
       "      <td>104.000000</td>\n",
       "    </tr>\n",
       "    <tr>\n",
       "      <th>25%</th>\n",
       "      <td>180.000000</td>\n",
       "    </tr>\n",
       "    <tr>\n",
       "      <th>50%</th>\n",
       "      <td>265.500000</td>\n",
       "    </tr>\n",
       "    <tr>\n",
       "      <th>75%</th>\n",
       "      <td>360.500000</td>\n",
       "    </tr>\n",
       "    <tr>\n",
       "      <th>max</th>\n",
       "      <td>622.000000</td>\n",
       "    </tr>\n",
       "  </tbody>\n",
       "</table>\n",
       "</div>"
      ],
      "text/plain": [
       "       #Passengers\n",
       "count   144.000000\n",
       "mean    280.298611\n",
       "std     119.966317\n",
       "min     104.000000\n",
       "25%     180.000000\n",
       "50%     265.500000\n",
       "75%     360.500000\n",
       "max     622.000000"
      ]
     },
     "execution_count": 53,
     "metadata": {},
     "output_type": "execute_result"
    }
   ],
   "source": [
    "data.describe()"
   ]
  },
  {
   "cell_type": "code",
   "execution_count": 54,
   "id": "c124d96c",
   "metadata": {},
   "outputs": [
    {
     "name": "stdout",
     "output_type": "stream",
     "text": [
      "<class 'pandas.core.frame.DataFrame'>\n",
      "RangeIndex: 144 entries, 0 to 143\n",
      "Data columns (total 2 columns):\n",
      " #   Column       Non-Null Count  Dtype \n",
      "---  ------       --------------  ----- \n",
      " 0   Month        144 non-null    object\n",
      " 1   #Passengers  144 non-null    int64 \n",
      "dtypes: int64(1), object(1)\n",
      "memory usage: 2.4+ KB\n"
     ]
    }
   ],
   "source": [
    "data.info()"
   ]
  },
  {
   "cell_type": "code",
   "execution_count": 55,
   "id": "7dea59d8",
   "metadata": {},
   "outputs": [
    {
     "data": {
      "text/html": [
       "<div>\n",
       "<style scoped>\n",
       "    .dataframe tbody tr th:only-of-type {\n",
       "        vertical-align: middle;\n",
       "    }\n",
       "\n",
       "    .dataframe tbody tr th {\n",
       "        vertical-align: top;\n",
       "    }\n",
       "\n",
       "    .dataframe thead th {\n",
       "        text-align: right;\n",
       "    }\n",
       "</style>\n",
       "<table border=\"1\" class=\"dataframe\">\n",
       "  <thead>\n",
       "    <tr style=\"text-align: right;\">\n",
       "      <th></th>\n",
       "      <th>Month</th>\n",
       "      <th>#Passengers</th>\n",
       "    </tr>\n",
       "  </thead>\n",
       "  <tbody>\n",
       "    <tr>\n",
       "      <th>0</th>\n",
       "      <td>1949-01-01</td>\n",
       "      <td>112</td>\n",
       "    </tr>\n",
       "    <tr>\n",
       "      <th>1</th>\n",
       "      <td>1949-02-01</td>\n",
       "      <td>118</td>\n",
       "    </tr>\n",
       "    <tr>\n",
       "      <th>2</th>\n",
       "      <td>1949-03-01</td>\n",
       "      <td>132</td>\n",
       "    </tr>\n",
       "    <tr>\n",
       "      <th>3</th>\n",
       "      <td>1949-04-01</td>\n",
       "      <td>129</td>\n",
       "    </tr>\n",
       "    <tr>\n",
       "      <th>4</th>\n",
       "      <td>1949-05-01</td>\n",
       "      <td>121</td>\n",
       "    </tr>\n",
       "  </tbody>\n",
       "</table>\n",
       "</div>"
      ],
      "text/plain": [
       "       Month  #Passengers\n",
       "0 1949-01-01          112\n",
       "1 1949-02-01          118\n",
       "2 1949-03-01          132\n",
       "3 1949-04-01          129\n",
       "4 1949-05-01          121"
      ]
     },
     "execution_count": 55,
     "metadata": {},
     "output_type": "execute_result"
    }
   ],
   "source": [
    "data['Month'] = pd.to_datetime(data['Month'])\n",
    "data.head()"
   ]
  },
  {
   "cell_type": "code",
   "execution_count": null,
   "id": "a50bc899",
   "metadata": {},
   "outputs": [],
   "source": [
    "data.info()"
   ]
  },
  {
   "cell_type": "code",
   "execution_count": null,
   "id": "1d132e81",
   "metadata": {},
   "outputs": [],
   "source": [
    "data.index = data['Month']\n",
    "\n",
    "data.head()"
   ]
  },
  {
   "cell_type": "code",
   "execution_count": null,
   "id": "2c284c7b",
   "metadata": {},
   "outputs": [],
   "source": [
    "del data['Month']"
   ]
  },
  {
   "cell_type": "code",
   "execution_count": null,
   "id": "c2dbe5fa",
   "metadata": {},
   "outputs": [],
   "source": [
    "data.head()"
   ]
  },
  {
   "cell_type": "markdown",
   "id": "7d061637",
   "metadata": {},
   "source": [
    "1. month column should be in appropriate data type\n",
    "2. month should be index"
   ]
  },
  {
   "cell_type": "code",
   "execution_count": null,
   "id": "48676017",
   "metadata": {},
   "outputs": [],
   "source": [
    "#plotting the time series\n",
    "data.plot()"
   ]
  },
  {
   "cell_type": "code",
   "execution_count": null,
   "id": "dc3d35b2",
   "metadata": {},
   "outputs": [],
   "source": [
    "# seasonal decompose\n",
    "\n",
    "from statsmodels.tsa.seasonal import seasonal_decompose\n",
    "\n",
    "decompose_result = seasonal_decompose(data['#Passengers'].dropna())\n",
    "\n",
    "decompose_result.plot()"
   ]
  },
  {
   "cell_type": "code",
   "execution_count": null,
   "id": "6268340e",
   "metadata": {},
   "outputs": [],
   "source": [
    "# how to make time series stationary\n",
    "\n",
    "mean_log = data.rolling(window = 12).mean()"
   ]
  },
  {
   "cell_type": "code",
   "execution_count": null,
   "id": "dcbd7b85",
   "metadata": {},
   "outputs": [],
   "source": [
    "plt.plot(data,color = 'blue',label = 'Original')\n",
    "plt.plot(mean_log,color = 'red',label = 'Rolling Mean')\n",
    "plt.legend(loc = 'best')\n",
    "plt.title('rolling mean vs original')"
   ]
  },
  {
   "cell_type": "markdown",
   "id": "626ec340",
   "metadata": {},
   "source": [
    " before building a time series model, we need to make sure that the time series is stationary.If the time series is non-stationary, then we need to make it stationary by differencing the data.\n",
    "    \n",
    "    the number of times we take a difference of the data is a parameter used in Arima models.\n",
    "    \n",
    "    non-stationarity in time series may appear for the following reasons:\n",
    "        - presence of a trend in the data,presence of heteroscadasticity,presence of autocorrelation, we can identify non-stationarity in time series by performing a statistical test Augmented Dickey-Fuller test.\n",
    "        \n",
    "        null hypothesis: time series is non-stationary\n",
    "        alternative hypothesis: time series is stationary"
   ]
  },
  {
   "cell_type": "code",
   "execution_count": null,
   "id": "35419a34",
   "metadata": {},
   "outputs": [],
   "source": [
    "# check the stationarity of the series\n",
    "\n",
    "from statsmodels.tsa.stattools import adfuller\n",
    "result = adfuller(data['#Passengers'])\n",
    "print(result[1])"
   ]
  },
  {
   "cell_type": "code",
   "execution_count": null,
   "id": "fe8992b6",
   "metadata": {},
   "outputs": [],
   "source": [
    "# if p value is less than 0.05 , then time series is stationary"
   ]
  },
  {
   "cell_type": "code",
   "execution_count": null,
   "id": "7d4481db",
   "metadata": {},
   "outputs": [],
   "source": [
    "data['#Passengers'].diff()"
   ]
  },
  {
   "cell_type": "code",
   "execution_count": null,
   "id": "8f7ae39b",
   "metadata": {},
   "outputs": [],
   "source": [
    "data['#Passengers'].head()"
   ]
  },
  {
   "cell_type": "code",
   "execution_count": null,
   "id": "d75ae7ce",
   "metadata": {},
   "outputs": [],
   "source": [
    "result = adfuller(data['#Passengers'].diff().dropna())\n",
    "print(result[1])"
   ]
  },
  {
   "cell_type": "code",
   "execution_count": null,
   "id": "bff6288f",
   "metadata": {},
   "outputs": [],
   "source": [
    "result = adfuller(data['#Passengers'].diff().diff().dropna())\n",
    "print(result[1])"
   ]
  },
  {
   "cell_type": "code",
   "execution_count": null,
   "id": "b96f4ec7",
   "metadata": {},
   "outputs": [],
   "source": [
    "data['#Passengers'].diff().dropna().plot()"
   ]
  },
  {
   "cell_type": "code",
   "execution_count": null,
   "id": "01609e14",
   "metadata": {},
   "outputs": [],
   "source": [
    "data['#Passengers'].diff().diff().dropna().plot()"
   ]
  },
  {
   "cell_type": "code",
   "execution_count": null,
   "id": "e335d6ce",
   "metadata": {},
   "outputs": [],
   "source": [
    "new_data = pd.DataFrame(data['#Passengers'].diff().dropna())"
   ]
  },
  {
   "cell_type": "code",
   "execution_count": null,
   "id": "8caabe62",
   "metadata": {},
   "outputs": [],
   "source": [
    "mean_log = new_data.rolling(window = 12).mean()"
   ]
  },
  {
   "cell_type": "code",
   "execution_count": null,
   "id": "4ad95556",
   "metadata": {},
   "outputs": [],
   "source": [
    "plt.plot(new_data,color = 'blue',label = 'Original')\n",
    "plt.plot(mean_log,color = 'red',label = 'Rolling Mean')\n",
    "plt.legend(loc = 'best')\n",
    "plt.title('rolling mean vs original')"
   ]
  },
  {
   "cell_type": "code",
   "execution_count": null,
   "id": "0e52b94f",
   "metadata": {},
   "outputs": [],
   "source": [
    "# seasonal decompose\n",
    "\n",
    "from statsmodels.tsa.seasonal import seasonal_decompose\n",
    "\n",
    "decompose_result = seasonal_decompose(new_data['#Passengers'].dropna())\n",
    "\n",
    "decompose_result.plot()"
   ]
  },
  {
   "cell_type": "code",
   "execution_count": null,
   "id": "fa68a7c3",
   "metadata": {},
   "outputs": [],
   "source": [
    "# ACF and PACF plots are used to identify the model's order in ARIMA models.These plots help to find the parameters p and q.\n",
    "#   Also, \n",
    "# we always plot the ACF and PACF plots after making the timeseries stationary."
   ]
  },
  {
   "cell_type": "code",
   "execution_count": null,
   "id": "7742afd8",
   "metadata": {},
   "outputs": [],
   "source": [
    "from statsmodels.tsa.stattools import acf\n",
    "from statsmodels.tsa.stattools import pacf\n",
    "from statsmodels.graphics.tsaplots import plot_acf\n",
    "from statsmodels.graphics.tsaplots import plot_pacf\n",
    "\n",
    "acf_plot = acf(new_data)\n",
    "pacf_plot = pacf(new_data)\n",
    "plot_acf(acf_plot)"
   ]
  },
  {
   "cell_type": "code",
   "execution_count": null,
   "id": "fa4e18b6",
   "metadata": {},
   "outputs": [],
   "source": [
    "plot_pacf(pacf_plot,lags = 10 )"
   ]
  },
  {
   "cell_type": "code",
   "execution_count": null,
   "id": "129ef844",
   "metadata": {},
   "outputs": [],
   "source": [
    "from statsmodels.tsa.arima.model import ARIMA\n",
    "\n",
    "train = new_data.iloc[:120]['#Passengers']\n",
    "test = new_data.iloc[121:]['#Passengers']\n",
    "\n",
    "model = ARIMA(train,order=(1,0,2)) #p=1,d = 0,q=2\n",
    "model_fit = model.fit()"
   ]
  },
  {
   "cell_type": "code",
   "execution_count": null,
   "id": "6ee6bbb4",
   "metadata": {},
   "outputs": [],
   "source": [
    "model_fit.summary()"
   ]
  },
  {
   "cell_type": "code",
   "execution_count": null,
   "id": "15e75c16",
   "metadata": {},
   "outputs": [],
   "source": [
    "len(train)+len(test)-1"
   ]
  },
  {
   "cell_type": "code",
   "execution_count": null,
   "id": "13891fcf",
   "metadata": {},
   "outputs": [],
   "source": [
    "new_data['predict'] = model_fit.predict(start = 121,end=len(train)+len(test)-1,dynamic=True)\n",
    "\n",
    "new_data[['#Passengers','predict']]"
   ]
  },
  {
   "cell_type": "code",
   "execution_count": null,
   "id": "a86f4f17",
   "metadata": {},
   "outputs": [],
   "source": [
    "new_data[['#Passengers','predict']].plot()"
   ]
  },
  {
   "cell_type": "code",
   "execution_count": null,
   "id": "8f23d7a4",
   "metadata": {},
   "outputs": [],
   "source": [
    "#model is not taking into account seasonality\n",
    "\n",
    "# so this model is not a good fit for this data\n",
    "\n",
    "# so we can try for sarimax modelling\n",
    "\n"
   ]
  },
  {
   "cell_type": "code",
   "execution_count": null,
   "id": "21469891",
   "metadata": {},
   "outputs": [],
   "source": [
    "from statsmodels.tsa.statespace.sarimax import SARIMAX,SARIMAXResults\n",
    "\n",
    "model = SARIMAX(train,seasonal_order =(1,0,2,12))\n",
    "model = model.fit()"
   ]
  },
  {
   "cell_type": "code",
   "execution_count": null,
   "id": "782593a4",
   "metadata": {},
   "outputs": [],
   "source": [
    "new_data['predict']=model.predict(start = 121,end = len(train)+len(test)-1,dynamic = True)\n",
    "\n",
    "new_data[['#Passengers','predict']].plot()"
   ]
  },
  {
   "cell_type": "code",
   "execution_count": null,
   "id": "f4a1a4a6",
   "metadata": {},
   "outputs": [],
   "source": [
    "new_data.tail(20)"
   ]
  },
  {
   "cell_type": "code",
   "execution_count": null,
   "id": "5642fece",
   "metadata": {},
   "outputs": [],
   "source": [
    "#predicting the projection for next 5 years\n",
    "\n",
    "forecast= model.forecast(steps=120)\n",
    "new_data.plot()\n",
    "forecast.plot()"
   ]
  },
  {
   "cell_type": "code",
   "execution_count": null,
   "id": "d3914855",
   "metadata": {},
   "outputs": [],
   "source": [
    "from sklearn.metrics import mean_squared_error,mean_absolute_error,mean_absolute_percentage_error\n",
    "\n",
    "predict_df = new_data[121:131]\n",
    "mean_squared_error(predict_df['#Passengers'],predict_df['predict'])"
   ]
  },
  {
   "cell_type": "code",
   "execution_count": null,
   "id": "b4b48d07",
   "metadata": {},
   "outputs": [],
   "source": [
    "mean_absolute_percentage_error(predict_df['#Passengers'],predict_df['predict'])"
   ]
  },
  {
   "cell_type": "code",
   "execution_count": null,
   "id": "dc8e117c",
   "metadata": {},
   "outputs": [],
   "source": []
  }
 ],
 "metadata": {
  "kernelspec": {
   "display_name": "Python 3 (ipykernel)",
   "language": "python",
   "name": "python3"
  },
  "language_info": {
   "codemirror_mode": {
    "name": "ipython",
    "version": 3
   },
   "file_extension": ".py",
   "mimetype": "text/x-python",
   "name": "python",
   "nbconvert_exporter": "python",
   "pygments_lexer": "ipython3",
   "version": "3.11.3"
  }
 },
 "nbformat": 4,
 "nbformat_minor": 5
}
